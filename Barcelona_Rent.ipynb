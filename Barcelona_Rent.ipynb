{
 "cells": [
  {
   "cell_type": "markdown",
   "metadata": {},
   "source": [
    "<div style=\"background-color:#ffe0e0; padding: 20px; border-radius: 10px;\">\n",
    "  <h1 style=\"color:#2e2e2e;\">🏡 Análisis de Precio de Alquileres en Barcelona con Pandas</h1>\n",
    "  <h2 style=\"color:#4d4d4d;\">📊 Explorando Tendencias del Mercado Inmobiliario 2014/2022</h2>\n",
    "  <h3 style=\"color:#4d4d4d;\">👨🏽‍💻 José Messias Garcia da Silva Ferreira</h3>\n",
    "</div>"
   ]
  },
  {
   "cell_type": "code",
   "execution_count": 300,
   "metadata": {},
   "outputs": [
    {
     "data": {
      "text/html": [
       "<div>\n",
       "<style scoped>\n",
       "    .dataframe tbody tr th:only-of-type {\n",
       "        vertical-align: middle;\n",
       "    }\n",
       "\n",
       "    .dataframe tbody tr th {\n",
       "        vertical-align: top;\n",
       "    }\n",
       "\n",
       "    .dataframe thead th {\n",
       "        text-align: right;\n",
       "    }\n",
       "</style>\n",
       "<table border=\"1\" class=\"dataframe\">\n",
       "  <thead>\n",
       "    <tr style=\"text-align: right;\">\n",
       "      <th></th>\n",
       "      <th>Year</th>\n",
       "      <th>Trimester</th>\n",
       "      <th>District</th>\n",
       "      <th>Neighbourhood</th>\n",
       "      <th>average rent (euro/month)</th>\n",
       "    </tr>\n",
       "  </thead>\n",
       "  <tbody>\n",
       "    <tr>\n",
       "      <th>0</th>\n",
       "      <td>2014</td>\n",
       "      <td>1</td>\n",
       "      <td>Ciutat Vella</td>\n",
       "      <td>el Raval</td>\n",
       "      <td>589.55</td>\n",
       "    </tr>\n",
       "    <tr>\n",
       "      <th>1</th>\n",
       "      <td>2014</td>\n",
       "      <td>1</td>\n",
       "      <td>Ciutat Vella</td>\n",
       "      <td>Gothic Quarter</td>\n",
       "      <td>712.79</td>\n",
       "    </tr>\n",
       "    <tr>\n",
       "      <th>2</th>\n",
       "      <td>2014</td>\n",
       "      <td>1</td>\n",
       "      <td>Ciutat Vella</td>\n",
       "      <td>la Barceloneta</td>\n",
       "      <td>540.71</td>\n",
       "    </tr>\n",
       "    <tr>\n",
       "      <th>3</th>\n",
       "      <td>2014</td>\n",
       "      <td>1</td>\n",
       "      <td>Ciutat Vella</td>\n",
       "      <td>Sant Pere, Santa Caterina i la Ribera</td>\n",
       "      <td>673.44</td>\n",
       "    </tr>\n",
       "    <tr>\n",
       "      <th>4</th>\n",
       "      <td>2014</td>\n",
       "      <td>1</td>\n",
       "      <td>Eixample</td>\n",
       "      <td>Fort Pienc</td>\n",
       "      <td>736.09</td>\n",
       "    </tr>\n",
       "    <tr>\n",
       "      <th>...</th>\n",
       "      <td>...</td>\n",
       "      <td>...</td>\n",
       "      <td>...</td>\n",
       "      <td>...</td>\n",
       "      <td>...</td>\n",
       "    </tr>\n",
       "    <tr>\n",
       "      <th>2306</th>\n",
       "      <td>2022</td>\n",
       "      <td>2</td>\n",
       "      <td>Sant Marti</td>\n",
       "      <td>Diagonal Mar i el Front Maritim del Poblenou</td>\n",
       "      <td>1238.70</td>\n",
       "    </tr>\n",
       "    <tr>\n",
       "      <th>2307</th>\n",
       "      <td>2022</td>\n",
       "      <td>2</td>\n",
       "      <td>Sant Marti</td>\n",
       "      <td>el Besos i el Maresme</td>\n",
       "      <td>779.20</td>\n",
       "    </tr>\n",
       "    <tr>\n",
       "      <th>2308</th>\n",
       "      <td>2022</td>\n",
       "      <td>2</td>\n",
       "      <td>Sant Marti</td>\n",
       "      <td>Provencals del Poblenou</td>\n",
       "      <td>1032.90</td>\n",
       "    </tr>\n",
       "    <tr>\n",
       "      <th>2309</th>\n",
       "      <td>2022</td>\n",
       "      <td>2</td>\n",
       "      <td>Sant Marti</td>\n",
       "      <td>Sant Marti de Provencals</td>\n",
       "      <td>843.00</td>\n",
       "    </tr>\n",
       "    <tr>\n",
       "      <th>2310</th>\n",
       "      <td>2022</td>\n",
       "      <td>2</td>\n",
       "      <td>Sant Marti</td>\n",
       "      <td>la Verneda i la Pau</td>\n",
       "      <td>757.00</td>\n",
       "    </tr>\n",
       "  </tbody>\n",
       "</table>\n",
       "<p>2311 rows × 5 columns</p>\n",
       "</div>"
      ],
      "text/plain": [
       "      Year  Trimester      District  \\\n",
       "0     2014          1  Ciutat Vella   \n",
       "1     2014          1  Ciutat Vella   \n",
       "2     2014          1  Ciutat Vella   \n",
       "3     2014          1  Ciutat Vella   \n",
       "4     2014          1      Eixample   \n",
       "...    ...        ...           ...   \n",
       "2306  2022          2    Sant Marti   \n",
       "2307  2022          2    Sant Marti   \n",
       "2308  2022          2    Sant Marti   \n",
       "2309  2022          2    Sant Marti   \n",
       "2310  2022          2    Sant Marti   \n",
       "\n",
       "                                     Neighbourhood  average rent (euro/month)  \n",
       "0                                         el Raval                     589.55  \n",
       "1                                   Gothic Quarter                     712.79  \n",
       "2                                   la Barceloneta                     540.71  \n",
       "3            Sant Pere, Santa Caterina i la Ribera                     673.44  \n",
       "4                                       Fort Pienc                     736.09  \n",
       "...                                            ...                        ...  \n",
       "2306  Diagonal Mar i el Front Maritim del Poblenou                    1238.70  \n",
       "2307                         el Besos i el Maresme                     779.20  \n",
       "2308                       Provencals del Poblenou                    1032.90  \n",
       "2309                      Sant Marti de Provencals                     843.00  \n",
       "2310                           la Verneda i la Pau                     757.00  \n",
       "\n",
       "[2311 rows x 5 columns]"
      ]
     },
     "metadata": {},
     "output_type": "display_data"
    }
   ],
   "source": [
    "import pandas as pd\n",
    "data = pd.read_csv(\"barcelonarenting.csv\")\n",
    "display(data)"
   ]
  },
  {
   "cell_type": "code",
   "execution_count": 301,
   "metadata": {},
   "outputs": [
    {
     "name": "stdout",
     "output_type": "stream",
     "text": [
      "<class 'pandas.core.frame.DataFrame'>\n",
      "RangeIndex: 2311 entries, 0 to 2310\n",
      "Data columns (total 5 columns):\n",
      " #   Column                     Non-Null Count  Dtype  \n",
      "---  ------                     --------------  -----  \n",
      " 0   Year                       2311 non-null   int64  \n",
      " 1   Trimester                  2311 non-null   int64  \n",
      " 2   District                   2311 non-null   object \n",
      " 3   Neighbourhood              2311 non-null   object \n",
      " 4   average rent (euro/month)  2311 non-null   float64\n",
      "dtypes: float64(1), int64(2), object(2)\n",
      "memory usage: 90.4+ KB\n"
     ]
    }
   ],
   "source": [
    "data.info()\n",
    "from IPython.display import display"
   ]
  },
  {
   "cell_type": "code",
   "execution_count": 302,
   "metadata": {},
   "outputs": [
    {
     "data": {
      "text/html": [
       "<div>\n",
       "<style scoped>\n",
       "    .dataframe tbody tr th:only-of-type {\n",
       "        vertical-align: middle;\n",
       "    }\n",
       "\n",
       "    .dataframe tbody tr th {\n",
       "        vertical-align: top;\n",
       "    }\n",
       "\n",
       "    .dataframe thead th {\n",
       "        text-align: right;\n",
       "    }\n",
       "</style>\n",
       "<table border=\"1\" class=\"dataframe\">\n",
       "  <thead>\n",
       "    <tr style=\"text-align: right;\">\n",
       "      <th></th>\n",
       "      <th>Year</th>\n",
       "      <th>Trimester</th>\n",
       "      <th>District</th>\n",
       "      <th>Neighbourhood</th>\n",
       "      <th>average rent (euro/month)</th>\n",
       "    </tr>\n",
       "  </thead>\n",
       "  <tbody>\n",
       "    <tr>\n",
       "      <th>0</th>\n",
       "      <td>2014</td>\n",
       "      <td>1</td>\n",
       "      <td>Ciutat Vella</td>\n",
       "      <td>el Raval</td>\n",
       "      <td>589.55</td>\n",
       "    </tr>\n",
       "    <tr>\n",
       "      <th>1</th>\n",
       "      <td>2014</td>\n",
       "      <td>1</td>\n",
       "      <td>Ciutat Vella</td>\n",
       "      <td>Gothic Quarter</td>\n",
       "      <td>712.79</td>\n",
       "    </tr>\n",
       "    <tr>\n",
       "      <th>2</th>\n",
       "      <td>2014</td>\n",
       "      <td>1</td>\n",
       "      <td>Ciutat Vella</td>\n",
       "      <td>la Barceloneta</td>\n",
       "      <td>540.71</td>\n",
       "    </tr>\n",
       "    <tr>\n",
       "      <th>3</th>\n",
       "      <td>2014</td>\n",
       "      <td>1</td>\n",
       "      <td>Ciutat Vella</td>\n",
       "      <td>Sant Pere, Santa Caterina i la Ribera</td>\n",
       "      <td>673.44</td>\n",
       "    </tr>\n",
       "    <tr>\n",
       "      <th>4</th>\n",
       "      <td>2014</td>\n",
       "      <td>1</td>\n",
       "      <td>Eixample</td>\n",
       "      <td>Fort Pienc</td>\n",
       "      <td>736.09</td>\n",
       "    </tr>\n",
       "  </tbody>\n",
       "</table>\n",
       "</div>"
      ],
      "text/plain": [
       "   Year  Trimester      District                          Neighbourhood  \\\n",
       "0  2014          1  Ciutat Vella                               el Raval   \n",
       "1  2014          1  Ciutat Vella                         Gothic Quarter   \n",
       "2  2014          1  Ciutat Vella                         la Barceloneta   \n",
       "3  2014          1  Ciutat Vella  Sant Pere, Santa Caterina i la Ribera   \n",
       "4  2014          1      Eixample                             Fort Pienc   \n",
       "\n",
       "   average rent (euro/month)  \n",
       "0                     589.55  \n",
       "1                     712.79  \n",
       "2                     540.71  \n",
       "3                     673.44  \n",
       "4                     736.09  "
      ]
     },
     "execution_count": 302,
     "metadata": {},
     "output_type": "execute_result"
    }
   ],
   "source": [
    "data.head()"
   ]
  },
  {
   "cell_type": "code",
   "execution_count": 303,
   "metadata": {},
   "outputs": [
    {
     "name": "stdout",
     "output_type": "stream",
     "text": [
      "Number of rows: 2311 rows.\n"
     ]
    }
   ],
   "source": [
    "data_lenght = len(data)\n",
    "print(f\"Number of rows: {data_lenght} rows.\")"
   ]
  },
  {
   "cell_type": "code",
   "execution_count": 304,
   "metadata": {},
   "outputs": [
    {
     "data": {
      "text/html": [
       "<div>\n",
       "<style scoped>\n",
       "    .dataframe tbody tr th:only-of-type {\n",
       "        vertical-align: middle;\n",
       "    }\n",
       "\n",
       "    .dataframe tbody tr th {\n",
       "        vertical-align: top;\n",
       "    }\n",
       "\n",
       "    .dataframe thead th {\n",
       "        text-align: right;\n",
       "    }\n",
       "</style>\n",
       "<table border=\"1\" class=\"dataframe\">\n",
       "  <thead>\n",
       "    <tr style=\"text-align: right;\">\n",
       "      <th></th>\n",
       "      <th>Year</th>\n",
       "      <th>Trimester</th>\n",
       "      <th>average rent (euro/month)</th>\n",
       "    </tr>\n",
       "  </thead>\n",
       "  <tbody>\n",
       "    <tr>\n",
       "      <th>count</th>\n",
       "      <td>2311.000000</td>\n",
       "      <td>2311.000000</td>\n",
       "      <td>2311.000000</td>\n",
       "    </tr>\n",
       "    <tr>\n",
       "      <th>mean</th>\n",
       "      <td>2017.745565</td>\n",
       "      <td>2.440502</td>\n",
       "      <td>820.780658</td>\n",
       "    </tr>\n",
       "    <tr>\n",
       "      <th>std</th>\n",
       "      <td>2.463095</td>\n",
       "      <td>1.116498</td>\n",
       "      <td>255.450568</td>\n",
       "    </tr>\n",
       "    <tr>\n",
       "      <th>min</th>\n",
       "      <td>2014.000000</td>\n",
       "      <td>1.000000</td>\n",
       "      <td>142.340000</td>\n",
       "    </tr>\n",
       "    <tr>\n",
       "      <th>25%</th>\n",
       "      <td>2016.000000</td>\n",
       "      <td>1.000000</td>\n",
       "      <td>653.860000</td>\n",
       "    </tr>\n",
       "    <tr>\n",
       "      <th>50%</th>\n",
       "      <td>2018.000000</td>\n",
       "      <td>2.000000</td>\n",
       "      <td>777.210000</td>\n",
       "    </tr>\n",
       "    <tr>\n",
       "      <th>75%</th>\n",
       "      <td>2020.000000</td>\n",
       "      <td>3.000000</td>\n",
       "      <td>926.500000</td>\n",
       "    </tr>\n",
       "    <tr>\n",
       "      <th>max</th>\n",
       "      <td>2022.000000</td>\n",
       "      <td>4.000000</td>\n",
       "      <td>2034.000000</td>\n",
       "    </tr>\n",
       "  </tbody>\n",
       "</table>\n",
       "</div>"
      ],
      "text/plain": [
       "              Year    Trimester  average rent (euro/month)\n",
       "count  2311.000000  2311.000000                2311.000000\n",
       "mean   2017.745565     2.440502                 820.780658\n",
       "std       2.463095     1.116498                 255.450568\n",
       "min    2014.000000     1.000000                 142.340000\n",
       "25%    2016.000000     1.000000                 653.860000\n",
       "50%    2018.000000     2.000000                 777.210000\n",
       "75%    2020.000000     3.000000                 926.500000\n",
       "max    2022.000000     4.000000                2034.000000"
      ]
     },
     "execution_count": 304,
     "metadata": {},
     "output_type": "execute_result"
    }
   ],
   "source": [
    "data.describe()"
   ]
  },
  {
   "cell_type": "markdown",
   "metadata": {},
   "source": [
    "### Barrios & Districtos"
   ]
  },
  {
   "cell_type": "code",
   "execution_count": 305,
   "metadata": {},
   "outputs": [
    {
     "name": "stdout",
     "output_type": "stream",
     "text": [
      "In total, there are 10 districts and 75 neighborhoods, which are as follows:\n",
      " \n",
      "Districts: ['Ciutat Vella' 'Eixample' 'Sants-Montjuic' 'Les Corts'\n",
      " 'Sarria-Sant Gervasi' 'Gracia' 'Horta-Guinardo' 'Nou Barris'\n",
      " 'Sant Andreu' 'Sant Marti']\n",
      " \n",
      "Neighborhoods:\n",
      "['el Raval' 'Gothic Quarter' 'la Barceloneta'\n",
      " 'Sant Pere, Santa Caterina i la Ribera' 'Fort Pienc' 'Sagrada Familia'\n",
      " \"la Dreta de l'Eixample\" \"l'Antiga Esquerra de l'Eixample\"\n",
      " \"la Nova Esquerra de l'Eixample\" 'Sant Antoni' 'el Poble Sec'\n",
      " 'la Marina de Port' 'la Font de la Guatlla' 'Hostafrancs' 'la Bordeta'\n",
      " 'Sants - Badal' 'Sants' 'les Corts' 'la Maternitat i Sant Ramon'\n",
      " 'Pedralbes' 'Vallvidrera, el Tibidabo i les Planes' 'Sarria'\n",
      " 'les Tres Torres' 'Sant Gervasi - la Bonanova' 'Sant Gervasi - Galvany'\n",
      " 'el Putxet i el Farro' 'Vallcarca i els Penitents' 'el Coll' 'la Salut'\n",
      " 'la Vila de Gracia' \"el Camp d'en Grassot i Gracia Nova\"\n",
      " 'el Baix Guinardo' 'Can Baro' 'el Guinardo' \"la Font d'en Fargues\"\n",
      " 'el Carmel' 'la Teixonera' 'Sant Genis dels Agudells' 'Montbau'\n",
      " \"la Vall d'Hebron\" 'Horta' 'Vilapicina i la Torre Llobeta' 'Porta'\n",
      " 'el Turo de la Peira' 'Can Peguera' 'la Guineueta' 'Canyelles'\n",
      " 'les Roquetes' 'Verdun' 'la Prosperitat' 'la Trinitat Nova'\n",
      " 'Ciutat Meridiana' 'la Trinitat Vella' 'el Bon Pastor' 'Sant Andreu'\n",
      " 'la Sagrera' 'el Congres i els Indians' 'Navas'\n",
      " \"el Camp de l'Arpa del Clot\" 'el Clot'\n",
      " 'el Parc i la Llacuna del Poblenou' 'la Vila Olimpica del Poblenou'\n",
      " 'el Poblenou' 'Diagonal Mar i el Front Maritim del Poblenou'\n",
      " 'el Besos i el Maresme' 'Provencals del Poblenou'\n",
      " 'Sant Marti de Provencals' 'la Verneda i la Pau' 'Torre Baro'\n",
      " 'Baro de Viver' 'la Marina del Prat Vermell' 'Vallbona' 'la Clota'\n",
      " 'la Sagrada Familia' 'Sant Martíide Provencals']\n"
     ]
    }
   ],
   "source": [
    "districts = data[\"District\"].unique()\n",
    "neighbourhoods = data[\"Neighbourhood\"].unique()\n",
    "number_of_barrios = data[\"Neighbourhood\"].nunique()\n",
    "number_of_districts = data[\"District\"].nunique()\n",
    "print(f\"In total, there are {number_of_districts} districts and {number_of_barrios} neighborhoods, which are as follows:\\n \\nDistricts: {districts}\\n \\nNeighborhoods:\\n{neighbourhoods}\")"
   ]
  },
  {
   "cell_type": "markdown",
   "metadata": {},
   "source": [
    "### Precio promedio por año:"
   ]
  },
  {
   "cell_type": "code",
   "execution_count": 306,
   "metadata": {},
   "outputs": [
    {
     "name": "stdout",
     "output_type": "stream",
     "text": [
      "The average rent by year from 2014 to 2022 is \n",
      "Year\n",
      "2014    661.64\n",
      "2015    695.24\n",
      "2016    750.96\n",
      "2017    829.38\n",
      "2018    874.05\n",
      "2019    923.32\n",
      "2020    915.92\n",
      "2021    871.59\n",
      "2022    922.55\n",
      "Name: average rent (euro/month), dtype: float64.\n"
     ]
    }
   ],
   "source": [
    "average_rent = data.groupby(\"Year\")[\"average rent (euro/month)\"].mean().round(2)\n",
    "print(f\"The average rent by year from 2014 to 2022 is \\n{average_rent}.\")"
   ]
  },
  {
   "cell_type": "markdown",
   "metadata": {},
   "source": [
    "### Precio promedio por districto:"
   ]
  },
  {
   "cell_type": "code",
   "execution_count": 307,
   "metadata": {},
   "outputs": [
    {
     "data": {
      "text/plain": [
       "District\n",
       "Ciutat Vella            834.70\n",
       "Eixample                963.17\n",
       "Gracia                  824.91\n",
       "Horta-Guinardo          711.14\n",
       "Les Corts              1196.39\n",
       "Nou Barris              597.41\n",
       "Sant Andreu             669.37\n",
       "Sant Marti              864.33\n",
       "Sants-Montjuic          745.30\n",
       "Sarria-Sant Gervasi    1228.21\n",
       "Name: average rent (euro/month), dtype: float64"
      ]
     },
     "execution_count": 307,
     "metadata": {},
     "output_type": "execute_result"
    }
   ],
   "source": [
    "average_district = data.groupby(\"District\")[\"average rent (euro/month)\"].mean().round(2)\n",
    "average_district"
   ]
  },
  {
   "cell_type": "markdown",
   "metadata": {},
   "source": [
    "### Precio promedio por districto y por año:"
   ]
  },
  {
   "cell_type": "code",
   "execution_count": 308,
   "metadata": {},
   "outputs": [
    {
     "name": "stdout",
     "output_type": "stream",
     "text": [
      "Year                    2014     2015     2016     2017     2018     2019  \\\n",
      "District                                                                    \n",
      "Ciutat Vella          643.73   682.97   752.02   846.16   929.11   960.34   \n",
      "Eixample              772.44   823.83   903.20   977.38  1024.58  1080.73   \n",
      "Gracia                651.01   690.79   756.20   834.32   873.45   926.18   \n",
      "Horta-Guinardo        581.12   595.01   649.61   718.37   750.92   796.39   \n",
      "Les Corts            1009.34  1104.31  1142.60  1235.72  1238.33  1322.32   \n",
      "Nou Barris            474.80   501.62   529.15   583.03   648.95   685.75   \n",
      "Sant Andreu           538.14   551.30   586.16   671.36   731.20   759.32   \n",
      "Sant Marti            682.12   735.78   800.33   869.57   919.76   981.27   \n",
      "Sants-Montjuic        597.32   611.30   662.42   760.35   799.81   823.66   \n",
      "Sarria-Sant Gervasi  1044.08  1083.35  1185.86  1281.41  1254.22  1334.70   \n",
      "\n",
      "Year                    2020     2021     2022  \n",
      "District                                        \n",
      "Ciutat Vella          921.25   858.92  1000.95  \n",
      "Eixample             1064.02  1000.55  1080.37  \n",
      "Gracia                938.77   877.26   927.51  \n",
      "Horta-Guinardo        800.30   765.01   781.74  \n",
      "Les Corts            1263.58  1214.07  1278.13  \n",
      "Nou Barris            678.47   664.29   675.96  \n",
      "Sant Andreu           767.07   721.20   760.16  \n",
      "Sant Marti            956.34   916.45   970.36  \n",
      "Sants-Montjuic        843.14   798.93   885.63  \n",
      "Sarria-Sant Gervasi  1332.46  1271.21  1305.03  \n"
     ]
    }
   ],
   "source": [
    "district_by_year = data.groupby([\"District\", \"Year\"])[\"average rent (euro/month)\"].mean().round(2)\n",
    "district_by_year_df = district_by_year.unstack() #\tmethod para ver como un dataframe\n",
    "print(district_by_year_df)"
   ]
  },
  {
   "cell_type": "markdown",
   "metadata": {},
   "source": [
    "### Media de alquiler más alta por districto:"
   ]
  },
  {
   "cell_type": "code",
   "execution_count": 309,
   "metadata": {},
   "outputs": [
    {
     "data": {
      "text/plain": [
       "District             Year\n",
       "Ciutat Vella         2014     790.74\n",
       "                     2015     831.13\n",
       "                     2016     913.96\n",
       "                     2017    1028.49\n",
       "                     2018    1057.26\n",
       "                              ...   \n",
       "Sarria-Sant Gervasi  2018    1746.01\n",
       "                     2019    1745.00\n",
       "                     2020    1729.50\n",
       "                     2021    1597.40\n",
       "                     2022    1767.00\n",
       "Name: average rent (euro/month), Length: 90, dtype: float64"
      ]
     },
     "execution_count": 309,
     "metadata": {},
     "output_type": "execute_result"
    }
   ],
   "source": [
    "max_rent_disctrict = data.groupby([\"District\", \"Year\"])[\"average rent (euro/month)\"].max()\n",
    "max_rent_disctrict"
   ]
  },
  {
   "cell_type": "markdown",
   "metadata": {},
   "source": [
    "### Media de alquiler más alta por barrio:"
   ]
  },
  {
   "cell_type": "code",
   "execution_count": 310,
   "metadata": {},
   "outputs": [
    {
     "data": {
      "text/plain": [
       "Neighbourhood    Year\n",
       "Baro de Viver    2014     231.40\n",
       "                 2015     362.94\n",
       "                 2016     256.45\n",
       "                 2018     673.69\n",
       "                 2020     584.10\n",
       "                          ...   \n",
       "les Tres Torres  2018    1746.01\n",
       "                 2019    1745.00\n",
       "                 2020    1729.50\n",
       "                 2021    1597.40\n",
       "                 2022    1767.00\n",
       "Name: average rent (euro/month), Length: 626, dtype: float64"
      ]
     },
     "execution_count": 310,
     "metadata": {},
     "output_type": "execute_result"
    }
   ],
   "source": [
    "max_rent_neighborhood = data.groupby([\"Neighbourhood\", \"Year\"])[\"average rent (euro/month)\"].max()\n",
    "max_rent_neighborhood"
   ]
  },
  {
   "cell_type": "markdown",
   "metadata": {},
   "source": [
    "### Media de alquiler más baja por districto:"
   ]
  },
  {
   "cell_type": "code",
   "execution_count": 311,
   "metadata": {},
   "outputs": [
    {
     "data": {
      "text/plain": [
       "District             Year\n",
       "Ciutat Vella         2014     540.71\n",
       "                     2015     581.34\n",
       "                     2016     624.42\n",
       "                     2017     714.29\n",
       "                     2018     792.74\n",
       "                              ...   \n",
       "Sarria-Sant Gervasi  2018     860.13\n",
       "                     2019    1057.10\n",
       "                     2020    1033.30\n",
       "                     2021     990.10\n",
       "                     2022     894.90\n",
       "Name: average rent (euro/month), Length: 90, dtype: float64"
      ]
     },
     "execution_count": 311,
     "metadata": {},
     "output_type": "execute_result"
    }
   ],
   "source": [
    "min_rent_disctrict = data.groupby([\"District\", \"Year\"])[\"average rent (euro/month)\"].min()\n",
    "min_rent_disctrict"
   ]
  },
  {
   "cell_type": "markdown",
   "metadata": {},
   "source": [
    "### Media de alquiler más baja por barrio y año:"
   ]
  },
  {
   "cell_type": "code",
   "execution_count": 312,
   "metadata": {},
   "outputs": [
    {
     "data": {
      "text/plain": [
       "Neighbourhood    Year\n",
       "Baro de Viver    2014     231.40\n",
       "                 2015     187.00\n",
       "                 2016     142.34\n",
       "                 2018     673.69\n",
       "                 2020     584.10\n",
       "                          ...   \n",
       "les Tres Torres  2018    1467.07\n",
       "                 2019    1602.50\n",
       "                 2020    1662.40\n",
       "                 2021    1429.00\n",
       "                 2022    1630.80\n",
       "Name: average rent (euro/month), Length: 626, dtype: float64"
      ]
     },
     "execution_count": 312,
     "metadata": {},
     "output_type": "execute_result"
    }
   ],
   "source": [
    "min_rent_neighbourhood = data.groupby([\"Neighbourhood\", \"Year\"])[\"average rent (euro/month)\"].min()\n",
    "min_rent_neighbourhood"
   ]
  },
  {
   "cell_type": "markdown",
   "metadata": {},
   "source": [
    "### Precio promedio de alquiler por barrio y trimestre:"
   ]
  },
  {
   "cell_type": "code",
   "execution_count": 313,
   "metadata": {},
   "outputs": [
    {
     "data": {
      "text/plain": [
       "Year  Trimester  Neighbourhood                               \n",
       "2014  1          Can Baro                                         568.94\n",
       "                 Can Peguera                                      241.99\n",
       "                 Canyelles                                        563.33\n",
       "                 Ciutat Meridiana                                 359.27\n",
       "                 Diagonal Mar i el Front Maritim del Poblenou     866.70\n",
       "                                                                  ...   \n",
       "2022  2          la Vila Olimpica del Poblenou                   1442.60\n",
       "                 la Vila de Gracia                                982.60\n",
       "                 les Corts                                       1067.80\n",
       "                 les Roquetes                                     632.90\n",
       "                 les Tres Torres                                 1767.00\n",
       "Name: average rent (euro/month), Length: 2311, dtype: float64"
      ]
     },
     "execution_count": 313,
     "metadata": {},
     "output_type": "execute_result"
    }
   ],
   "source": [
    "avg_trimester = data.groupby([\"Year\", \"Trimester\", \"Neighbourhood\"])[\"average rent (euro/month)\"].mean().round(2)\n",
    "avg_trimester"
   ]
  },
  {
   "cell_type": "markdown",
   "metadata": {},
   "source": [
    "### En un distrito específico, en este caso\"Ciutat Vella\", el barrio con el precio de alquiler promedio más alto y el más bajo:"
   ]
  },
  {
   "cell_type": "code",
   "execution_count": 314,
   "metadata": {},
   "outputs": [],
   "source": [
    "min_by_disctrict = data[(data[\"District\"] == \"Ciutat Vella\") & (data[\"Year\"] == 2014)][[\"average rent (euro/month)\"]].min() \n",
    "max_by_disctrict = data[(data[\"District\"] == \"Ciutat Vella\") & (data[\"Year\"] == 2014)][[\"average rent (euro/month)\"]].max() "
   ]
  }
 ],
 "metadata": {
  "kernelspec": {
   "display_name": "Python 3",
   "language": "python",
   "name": "python3"
  },
  "language_info": {
   "codemirror_mode": {
    "name": "ipython",
    "version": 3
   },
   "file_extension": ".py",
   "mimetype": "text/x-python",
   "name": "python",
   "nbconvert_exporter": "python",
   "pygments_lexer": "ipython3",
   "version": "3.13.2"
  }
 },
 "nbformat": 4,
 "nbformat_minor": 2
}
